{
 "cells": [
  {
   "cell_type": "code",
   "execution_count": 1,
   "id": "52506194-357a-4144-9df0-6afd96fc2bf9",
   "metadata": {},
   "outputs": [
    {
     "data": {
      "text/html": [
       "32698"
      ],
      "text/latex": [
       "32698"
      ],
      "text/markdown": [
       "32698"
      ],
      "text/plain": [
       "[1] 32698"
      ]
     },
     "metadata": {},
     "output_type": "display_data"
    },
    {
     "data": {
      "text/html": [
       "47.22"
      ],
      "text/latex": [
       "47.22"
      ],
      "text/markdown": [
       "47.22"
      ],
      "text/plain": [
       "[1] 47.22"
      ]
     },
     "metadata": {},
     "output_type": "display_data"
    },
    {
     "data": {
      "text/html": [
       "<table>\n",
       "<thead><tr><th></th><th scope=col>used</th><th scope=col>(Mb)</th><th scope=col>gc trigger</th><th scope=col>(Mb)</th><th scope=col>max used</th><th scope=col>(Mb)</th></tr></thead>\n",
       "<tbody>\n",
       "\t<tr><th scope=row>Ncells</th><td>510170 </td><td>27.3   </td><td>1146672</td><td>61.3   </td><td> 621911</td><td>33.3   </td></tr>\n",
       "\t<tr><th scope=row>Vcells</th><td>941585 </td><td> 7.2   </td><td>8388608</td><td>64.0   </td><td>1603065</td><td>12.3   </td></tr>\n",
       "</tbody>\n",
       "</table>\n"
      ],
      "text/latex": [
       "\\begin{tabular}{r|llllll}\n",
       "  & used & (Mb) & gc trigger & (Mb) & max used & (Mb)\\\\\n",
       "\\hline\n",
       "\tNcells & 510170  & 27.3    & 1146672 & 61.3    &  621911 & 33.3   \\\\\n",
       "\tVcells & 941585  &  7.2    & 8388608 & 64.0    & 1603065 & 12.3   \\\\\n",
       "\\end{tabular}\n"
      ],
      "text/markdown": [
       "\n",
       "| <!--/--> | used | (Mb) | gc trigger | (Mb) | max used | (Mb) |\n",
       "|---|---|---|---|---|---|---|\n",
       "| Ncells | 510170  | 27.3    | 1146672 | 61.3    |  621911 | 33.3    |\n",
       "| Vcells | 941585  |  7.2    | 8388608 | 64.0    | 1603065 | 12.3    |\n",
       "\n"
      ],
      "text/plain": [
       "       used   (Mb) gc trigger (Mb) max used (Mb)\n",
       "Ncells 510170 27.3 1146672    61.3  621911  33.3\n",
       "Vcells 941585  7.2 8388608    64.0 1603065  12.3"
      ]
     },
     "metadata": {},
     "output_type": "display_data"
    }
   ],
   "source": [
    "memory.limit()\n",
    "memory.size()\n",
    "gc()"
   ]
  },
  {
   "cell_type": "code",
   "execution_count": null,
   "id": "93919c65-fd28-4011-b6d3-0b58cb075eee",
   "metadata": {},
   "outputs": [
    {
     "name": "stderr",
     "output_type": "stream",
     "text": [
      "Parsed with column specification:\n",
      "cols(\n",
      "  image = col_character(),\n",
      "  class = col_character(),\n",
      "  threshold = col_double(),\n",
      "  metric = col_character(),\n",
      "  type = col_character(),\n",
      "  value = col_double(),\n",
      "  data_dataset = col_character(),\n",
      "  model_activation = col_character(),\n",
      "  model_depth = col_double(),\n",
      "  model_in_channels = col_double(),\n",
      "  model_out_classes = col_double(),\n",
      "  model_residual_units = col_double(),\n",
      "  model_width = col_double(),\n",
      "  model_width_ratio = col_double(),\n",
      "  job_hash = col_character(),\n",
      "  epoch = col_double(),\n",
      "  loss = col_double(),\n",
      "  predict_time = col_double()\n",
      ")\n"
     ]
    }
   ],
   "source": [
    "library(tidyverse, quietly = TRUE)\n",
    "\n",
    "metrics_df <- read_csv(\"E:\\\\work\\\\results\\\\grid_search\\\\metrics.csv\")\n",
    "iou_df <- metrics_df[metrics_df$metric == 'iou', ]\n",
    "which(! complete.cases(iou_df))\n",
    "\n",
    "test_metrics_df <- iou_df[iou_df$type == 'test', ]\n",
    "which(! complete.cases(test_metrics_df))\n",
    "val_metrics_df <- iou_df[iou_df$type == 'val', ]\n",
    "which(! complete.cases(val_metrics_df))\n",
    "nrow(unique(iou_df[c(\"job_hash\")]))\n",
    "\n",
    "head(test_metrics_df)"
   ]
  },
  {
   "cell_type": "markdown",
   "id": "007b3458-300c-4060-8939-a5254adbef41",
   "metadata": {},
   "source": [
    "**Test Dataset**"
   ]
  },
  {
   "cell_type": "code",
   "execution_count": null,
   "id": "b28198f0-6e81-4440-923d-0ab0958a32c5",
   "metadata": {},
   "outputs": [],
   "source": [
    "which(! complete.cases(test_metrics_df))\n",
    "model <- aov(value~job_hash, data=test_metrics_df)\n",
    "summary(model)\n",
    "tukey <- TukeyHSD(model, conf.level=.95, ordered=TRUE)\n",
    "results <- as.data.frame(tukey$job_hash)\n",
    "names(results) <- c(\"diff\", \"lwr\", \"upr\", \"p_adj\")\n",
    "results <- results[order(results$diff, decreasing=TRUE), ] "
   ]
  },
  {
   "cell_type": "code",
   "execution_count": null,
   "id": "4aaf7b26-0296-4f10-92fc-3d8d365fa706",
   "metadata": {},
   "outputs": [],
   "source": [
    "write.csv(results,\"E:\\\\work\\\\results\\\\grid_search\\\\test_tukey.csv\", row.names = TRUE)\n",
    "length( which( results$p_adj > 0.05 ) )\n",
    "length( which( results$p_adj < 0.05 ) )"
   ]
  },
  {
   "cell_type": "code",
   "execution_count": null,
   "id": "3123d34c-f3b9-40fd-b242-40b22d66cb23",
   "metadata": {},
   "outputs": [],
   "source": [
    "best_job_hashes <- c(\n",
    "    'bfd33d38ce9c4d84b912f1ee0b7961aa',\n",
    "    '3d0045f175d096e795e02af87c91c5fc',\n",
    "    '117d2454d163eb9fc94ae1fac18b036d',\n",
    "    'e1873349eb16479c563b4f3690a5b162',\n",
    "    '7f1a84913968ff6bc745dc21d0088207',\n",
    "    '645eb73f1c112a5a17e7fdbfb3c1b0cb',\n",
    "    'e310e988831119b2425954ce5d38f040',\n",
    "    '0f0e7bd0220a6492eefad6318cc159d1',\n",
    "    '2d844100ab842f7cd5142ab5284c83b3',\n",
    "    '5d22427ae45da60a71182bdd1ce8df4c',\n",
    "    '791687cd35791695e49a0be3f0071702',\n",
    "    '437a4dd2569fabc9367fa619ef599dae',\n",
    "    '0c9b3e43ee7d293529e9c5da1cb72ce4',\n",
    "    '4218d972fc50a0fcb380d26d9a44bef9',\n",
    "    '6e8912b429699396a12723b2bcaeff78',\n",
    "    '1ec1b3cdde28b001830e9d07ac190d3d'\n",
    ")\n",
    "\n",
    "results[c('better', 'worse')] <- str_split_fixed(rownames(results), '-', 2)\n",
    "best_results <- results[results$best %in% best_job_hashes, ]\n",
    "best_results <- results[results$worse %in% best_job_hashes, ]\n",
    "\n",
    "best_metrics <- test_metrics_df[test_metrics_df$job_hash %in% best_job_hashes, ]\n",
    "\n",
    " p <- ggboxplot(best_metrics, x = \"job_hash\", y = \"value\",\n",
    "                color = \"job_hash\",\n",
    "                add = \"jitter\", shape = \"job_hash\")"
   ]
  },
  {
   "cell_type": "markdown",
   "id": "279b1a3d-ee8a-4948-9f41-80a63cf4ad71",
   "metadata": {},
   "source": [
    "**Val Dataset**"
   ]
  },
  {
   "cell_type": "code",
   "execution_count": null,
   "id": "11d7eec9-5b18-44f1-9c2e-f8be459e1bb2",
   "metadata": {},
   "outputs": [],
   "source": [
    "model <- aov(value~job_hash, data=val_metrics_df)\n",
    "summary(model)\n",
    "tukey <- TukeyHSD(model, conf.level=.95, ordered=TRUE)\n",
    "results <- as.data.frame(tukey$job_hash)\n",
    "names(results) <- c(\"diff\", \"lwr\", \"upr\", \"p_adj\")\n",
    "results <- results[order(results$diff, decreasing=TRUE), ] \n",
    "write.csv(results,\"E:\\\\work\\\\results\\\\grid_search\\\\val_tukey.csv\", row.names = TRUE)\n",
    "length( which( results$p_adj > 0.05 ) )\n",
    "length( which( results$p_adj < 0.05 ) )"
   ]
  },
  {
   "cell_type": "markdown",
   "id": "0bf04515-37f4-473a-b457-4b35bd9bba3e",
   "metadata": {},
   "source": [
    "**Best Models**"
   ]
  },
  {
   "cell_type": "code",
   "execution_count": null,
   "id": "151ed8eb-55bd-420b-8160-afce6a0c6fb5",
   "metadata": {},
   "outputs": [],
   "source": [
    "\n",
    "\n",
    "\n"
   ]
  },
  {
   "cell_type": "code",
   "execution_count": null,
   "id": "8d9298b5-32fc-4fc5-83e0-acf151872bd5",
   "metadata": {},
   "outputs": [],
   "source": [
    "model <- aov(value~job_hash, data=best_metrics_df)\n",
    "summary(model)\n",
    "tukey <- TukeyHSD(model, conf.level=.95, ordered=TRUE)\n",
    "plot(tukey)\n",
    "results <- as.data.frame(tukey$job_hash)\n",
    "names(results) <- c(\"diff\", \"lwr\", \"upr\", \"p_adj\")\n",
    "results <- results[order(results$diff, decreasing=TRUE), ] \n",
    "write.csv(results,\"E:\\\\work\\\\results\\\\grid_search\\\\test_tukey_best.csv\", row.names = TRUE)\n",
    "length( which( results$p_adj > 0.05 ) )\n",
    "length( which( results$p_adj < 0.05 ) )"
   ]
  }
 ],
 "metadata": {
  "kernelspec": {
   "display_name": "R",
   "language": "R",
   "name": "ir"
  },
  "language_info": {
   "codemirror_mode": "r",
   "file_extension": ".r",
   "mimetype": "text/x-r-source",
   "name": "R",
   "pygments_lexer": "r",
   "version": "3.6.1"
  }
 },
 "nbformat": 4,
 "nbformat_minor": 5
}
