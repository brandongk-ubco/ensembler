{
 "cells": [
  {
   "cell_type": "code",
   "execution_count": 1,
   "id": "83e8edcb-1817-47b8-a52d-e07c923eff92",
   "metadata": {},
   "outputs": [
    {
     "data": {
      "text/html": [
       "32698"
      ],
      "text/latex": [
       "32698"
      ],
      "text/markdown": [
       "32698"
      ],
      "text/plain": [
       "[1] 32698"
      ]
     },
     "metadata": {},
     "output_type": "display_data"
    },
    {
     "data": {
      "text/html": [
       "45.74"
      ],
      "text/latex": [
       "45.74"
      ],
      "text/markdown": [
       "45.74"
      ],
      "text/plain": [
       "[1] 45.74"
      ]
     },
     "metadata": {},
     "output_type": "display_data"
    },
    {
     "data": {
      "text/html": [
       "<table>\n",
       "<thead><tr><th></th><th scope=col>used</th><th scope=col>(Mb)</th><th scope=col>gc trigger</th><th scope=col>(Mb)</th><th scope=col>max used</th><th scope=col>(Mb)</th></tr></thead>\n",
       "<tbody>\n",
       "\t<tr><th scope=row>Ncells</th><td>510164 </td><td>27.3   </td><td>1146655</td><td>61.3   </td><td> 621911</td><td>33.3   </td></tr>\n",
       "\t<tr><th scope=row>Vcells</th><td>941575 </td><td> 7.2   </td><td>8388608</td><td>64.0   </td><td>1602479</td><td>12.3   </td></tr>\n",
       "</tbody>\n",
       "</table>\n"
      ],
      "text/latex": [
       "\\begin{tabular}{r|llllll}\n",
       "  & used & (Mb) & gc trigger & (Mb) & max used & (Mb)\\\\\n",
       "\\hline\n",
       "\tNcells & 510164  & 27.3    & 1146655 & 61.3    &  621911 & 33.3   \\\\\n",
       "\tVcells & 941575  &  7.2    & 8388608 & 64.0    & 1602479 & 12.3   \\\\\n",
       "\\end{tabular}\n"
      ],
      "text/markdown": [
       "\n",
       "| <!--/--> | used | (Mb) | gc trigger | (Mb) | max used | (Mb) |\n",
       "|---|---|---|---|---|---|---|\n",
       "| Ncells | 510164  | 27.3    | 1146655 | 61.3    |  621911 | 33.3    |\n",
       "| Vcells | 941575  |  7.2    | 8388608 | 64.0    | 1602479 | 12.3    |\n",
       "\n"
      ],
      "text/plain": [
       "       used   (Mb) gc trigger (Mb) max used (Mb)\n",
       "Ncells 510164 27.3 1146655    61.3  621911  33.3\n",
       "Vcells 941575  7.2 8388608    64.0 1602479  12.3"
      ]
     },
     "metadata": {},
     "output_type": "display_data"
    }
   ],
   "source": [
    "memory.limit()\n",
    "memory.size()\n",
    "gc()"
   ]
  },
  {
   "cell_type": "code",
   "execution_count": 2,
   "id": "93919c65-fd28-4011-b6d3-0b58cb075eee",
   "metadata": {},
   "outputs": [
    {
     "name": "stderr",
     "output_type": "stream",
     "text": [
      "Registered S3 methods overwritten by 'ggplot2':\n",
      "  method         from \n",
      "  [.quosures     rlang\n",
      "  c.quosures     rlang\n",
      "  print.quosures rlang\n",
      "Registered S3 method overwritten by 'rvest':\n",
      "  method            from\n",
      "  read_xml.response xml2\n",
      "-- Attaching packages --------------------------------------- tidyverse 1.2.1 --\n",
      "v ggplot2 3.1.1       v purrr   0.3.2  \n",
      "v tibble  2.1.1       v dplyr   0.8.0.1\n",
      "v tidyr   0.8.3       v stringr 1.4.0  \n",
      "v readr   1.3.1       v forcats 0.4.0  \n",
      "-- Conflicts ------------------------------------------ tidyverse_conflicts() --\n",
      "x dplyr::filter() masks stats::filter()\n",
      "x dplyr::lag()    masks stats::lag()\n",
      "Parsed with column specification:\n",
      "cols(\n",
      "  image = col_character(),\n",
      "  class = col_character(),\n",
      "  threshold = col_double(),\n",
      "  metric = col_character(),\n",
      "  value = col_double(),\n",
      "  data_dataset = col_character(),\n",
      "  model_activation = col_character(),\n",
      "  model_depth = col_double(),\n",
      "  model_in_channels = col_double(),\n",
      "  model_out_classes = col_double(),\n",
      "  model_residual_units = col_double(),\n",
      "  model_width = col_double(),\n",
      "  model_width_ratio = col_double(),\n",
      "  job_hash = col_character(),\n",
      "  epoch = col_double(),\n",
      "  loss = col_double(),\n",
      "  predict_time = col_double()\n",
      ")\n"
     ]
    },
    {
     "data": {
      "text/html": [
       "<table>\n",
       "<thead><tr><th scope=col>image</th><th scope=col>class</th><th scope=col>threshold</th><th scope=col>metric</th><th scope=col>value</th><th scope=col>data_dataset</th><th scope=col>model_activation</th><th scope=col>model_depth</th><th scope=col>model_in_channels</th><th scope=col>model_out_classes</th><th scope=col>model_residual_units</th><th scope=col>model_width</th><th scope=col>model_width_ratio</th><th scope=col>job_hash</th><th scope=col>epoch</th><th scope=col>loss</th><th scope=col>predict_time</th></tr></thead>\n",
       "<tbody>\n",
       "\t<tr><td>bremen_000075_000019            </td><td>road                            </td><td>0.5                             </td><td>iou                             </td><td>0.9271246                       </td><td>cityscapes                      </td><td>piecewise_linear                </td><td>8                               </td><td>3                               </td><td>19                              </td><td>2                               </td><td>50                              </td><td>1.4                             </td><td>025cb7327dfa11ba27fd6fafcec81e13</td><td>237                             </td><td>0.32667                         </td><td>611.5712                        </td></tr>\n",
       "\t<tr><td>bremen_000075_000019            </td><td>sidewalk                        </td><td>0.5                             </td><td>iou                             </td><td>0.8601424                       </td><td>cityscapes                      </td><td>piecewise_linear                </td><td>8                               </td><td>3                               </td><td>19                              </td><td>2                               </td><td>50                              </td><td>1.4                             </td><td>025cb7327dfa11ba27fd6fafcec81e13</td><td>237                             </td><td>0.32667                         </td><td>611.5712                        </td></tr>\n",
       "\t<tr><td>bremen_000075_000019            </td><td>building                        </td><td>0.5                             </td><td>iou                             </td><td>0.8424176                       </td><td>cityscapes                      </td><td>piecewise_linear                </td><td>8                               </td><td>3                               </td><td>19                              </td><td>2                               </td><td>50                              </td><td>1.4                             </td><td>025cb7327dfa11ba27fd6fafcec81e13</td><td>237                             </td><td>0.32667                         </td><td>611.5712                        </td></tr>\n",
       "\t<tr><td>bremen_000075_000019            </td><td>fence                           </td><td>0.5                             </td><td>iou                             </td><td>0.5349227                       </td><td>cityscapes                      </td><td>piecewise_linear                </td><td>8                               </td><td>3                               </td><td>19                              </td><td>2                               </td><td>50                              </td><td>1.4                             </td><td>025cb7327dfa11ba27fd6fafcec81e13</td><td>237                             </td><td>0.32667                         </td><td>611.5712                        </td></tr>\n",
       "\t<tr><td>bremen_000075_000019            </td><td>pole                            </td><td>0.5                             </td><td>iou                             </td><td>0.5253563                       </td><td>cityscapes                      </td><td>piecewise_linear                </td><td>8                               </td><td>3                               </td><td>19                              </td><td>2                               </td><td>50                              </td><td>1.4                             </td><td>025cb7327dfa11ba27fd6fafcec81e13</td><td>237                             </td><td>0.32667                         </td><td>611.5712                        </td></tr>\n",
       "\t<tr><td>bremen_000075_000019            </td><td>traffic light                   </td><td>0.5                             </td><td>iou                             </td><td>0.5207297                       </td><td>cityscapes                      </td><td>piecewise_linear                </td><td>8                               </td><td>3                               </td><td>19                              </td><td>2                               </td><td>50                              </td><td>1.4                             </td><td>025cb7327dfa11ba27fd6fafcec81e13</td><td>237                             </td><td>0.32667                         </td><td>611.5712                        </td></tr>\n",
       "</tbody>\n",
       "</table>\n"
      ],
      "text/latex": [
       "\\begin{tabular}{r|lllllllllllllllll}\n",
       " image & class & threshold & metric & value & data\\_dataset & model\\_activation & model\\_depth & model\\_in\\_channels & model\\_out\\_classes & model\\_residual\\_units & model\\_width & model\\_width\\_ratio & job\\_hash & epoch & loss & predict\\_time\\\\\n",
       "\\hline\n",
       "\t bremen\\_000075\\_000019         & road                             & 0.5                              & iou                              & 0.9271246                        & cityscapes                       & piecewise\\_linear               & 8                                & 3                                & 19                               & 2                                & 50                               & 1.4                              & 025cb7327dfa11ba27fd6fafcec81e13 & 237                              & 0.32667                          & 611.5712                        \\\\\n",
       "\t bremen\\_000075\\_000019         & sidewalk                         & 0.5                              & iou                              & 0.8601424                        & cityscapes                       & piecewise\\_linear               & 8                                & 3                                & 19                               & 2                                & 50                               & 1.4                              & 025cb7327dfa11ba27fd6fafcec81e13 & 237                              & 0.32667                          & 611.5712                        \\\\\n",
       "\t bremen\\_000075\\_000019         & building                         & 0.5                              & iou                              & 0.8424176                        & cityscapes                       & piecewise\\_linear               & 8                                & 3                                & 19                               & 2                                & 50                               & 1.4                              & 025cb7327dfa11ba27fd6fafcec81e13 & 237                              & 0.32667                          & 611.5712                        \\\\\n",
       "\t bremen\\_000075\\_000019         & fence                            & 0.5                              & iou                              & 0.5349227                        & cityscapes                       & piecewise\\_linear               & 8                                & 3                                & 19                               & 2                                & 50                               & 1.4                              & 025cb7327dfa11ba27fd6fafcec81e13 & 237                              & 0.32667                          & 611.5712                        \\\\\n",
       "\t bremen\\_000075\\_000019         & pole                             & 0.5                              & iou                              & 0.5253563                        & cityscapes                       & piecewise\\_linear               & 8                                & 3                                & 19                               & 2                                & 50                               & 1.4                              & 025cb7327dfa11ba27fd6fafcec81e13 & 237                              & 0.32667                          & 611.5712                        \\\\\n",
       "\t bremen\\_000075\\_000019         & traffic light                    & 0.5                              & iou                              & 0.5207297                        & cityscapes                       & piecewise\\_linear               & 8                                & 3                                & 19                               & 2                                & 50                               & 1.4                              & 025cb7327dfa11ba27fd6fafcec81e13 & 237                              & 0.32667                          & 611.5712                        \\\\\n",
       "\\end{tabular}\n"
      ],
      "text/markdown": [
       "\n",
       "| image | class | threshold | metric | value | data_dataset | model_activation | model_depth | model_in_channels | model_out_classes | model_residual_units | model_width | model_width_ratio | job_hash | epoch | loss | predict_time |\n",
       "|---|---|---|---|---|---|---|---|---|---|---|---|---|---|---|---|---|\n",
       "| bremen_000075_000019             | road                             | 0.5                              | iou                              | 0.9271246                        | cityscapes                       | piecewise_linear                 | 8                                | 3                                | 19                               | 2                                | 50                               | 1.4                              | 025cb7327dfa11ba27fd6fafcec81e13 | 237                              | 0.32667                          | 611.5712                         |\n",
       "| bremen_000075_000019             | sidewalk                         | 0.5                              | iou                              | 0.8601424                        | cityscapes                       | piecewise_linear                 | 8                                | 3                                | 19                               | 2                                | 50                               | 1.4                              | 025cb7327dfa11ba27fd6fafcec81e13 | 237                              | 0.32667                          | 611.5712                         |\n",
       "| bremen_000075_000019             | building                         | 0.5                              | iou                              | 0.8424176                        | cityscapes                       | piecewise_linear                 | 8                                | 3                                | 19                               | 2                                | 50                               | 1.4                              | 025cb7327dfa11ba27fd6fafcec81e13 | 237                              | 0.32667                          | 611.5712                         |\n",
       "| bremen_000075_000019             | fence                            | 0.5                              | iou                              | 0.5349227                        | cityscapes                       | piecewise_linear                 | 8                                | 3                                | 19                               | 2                                | 50                               | 1.4                              | 025cb7327dfa11ba27fd6fafcec81e13 | 237                              | 0.32667                          | 611.5712                         |\n",
       "| bremen_000075_000019             | pole                             | 0.5                              | iou                              | 0.5253563                        | cityscapes                       | piecewise_linear                 | 8                                | 3                                | 19                               | 2                                | 50                               | 1.4                              | 025cb7327dfa11ba27fd6fafcec81e13 | 237                              | 0.32667                          | 611.5712                         |\n",
       "| bremen_000075_000019             | traffic light                    | 0.5                              | iou                              | 0.5207297                        | cityscapes                       | piecewise_linear                 | 8                                | 3                                | 19                               | 2                                | 50                               | 1.4                              | 025cb7327dfa11ba27fd6fafcec81e13 | 237                              | 0.32667                          | 611.5712                         |\n",
       "\n"
      ],
      "text/plain": [
       "  image                class         threshold metric value     data_dataset\n",
       "1 bremen_000075_000019 road          0.5       iou    0.9271246 cityscapes  \n",
       "2 bremen_000075_000019 sidewalk      0.5       iou    0.8601424 cityscapes  \n",
       "3 bremen_000075_000019 building      0.5       iou    0.8424176 cityscapes  \n",
       "4 bremen_000075_000019 fence         0.5       iou    0.5349227 cityscapes  \n",
       "5 bremen_000075_000019 pole          0.5       iou    0.5253563 cityscapes  \n",
       "6 bremen_000075_000019 traffic light 0.5       iou    0.5207297 cityscapes  \n",
       "  model_activation model_depth model_in_channels model_out_classes\n",
       "1 piecewise_linear 8           3                 19               \n",
       "2 piecewise_linear 8           3                 19               \n",
       "3 piecewise_linear 8           3                 19               \n",
       "4 piecewise_linear 8           3                 19               \n",
       "5 piecewise_linear 8           3                 19               \n",
       "6 piecewise_linear 8           3                 19               \n",
       "  model_residual_units model_width model_width_ratio\n",
       "1 2                    50          1.4              \n",
       "2 2                    50          1.4              \n",
       "3 2                    50          1.4              \n",
       "4 2                    50          1.4              \n",
       "5 2                    50          1.4              \n",
       "6 2                    50          1.4              \n",
       "  job_hash                         epoch loss    predict_time\n",
       "1 025cb7327dfa11ba27fd6fafcec81e13 237   0.32667 611.5712    \n",
       "2 025cb7327dfa11ba27fd6fafcec81e13 237   0.32667 611.5712    \n",
       "3 025cb7327dfa11ba27fd6fafcec81e13 237   0.32667 611.5712    \n",
       "4 025cb7327dfa11ba27fd6fafcec81e13 237   0.32667 611.5712    \n",
       "5 025cb7327dfa11ba27fd6fafcec81e13 237   0.32667 611.5712    \n",
       "6 025cb7327dfa11ba27fd6fafcec81e13 237   0.32667 611.5712    "
      ]
     },
     "metadata": {},
     "output_type": "display_data"
    }
   ],
   "source": [
    "library(tidyverse, quietly = TRUE)\n",
    "\n",
    "metrics_df <- read_csv(\"E:\\\\work\\\\results\\\\grid_search\\\\metrics.csv\")\n",
    "metrics_df <- metrics_df[metrics_df$metric == 'iou', ]\n",
    "head(metrics_df)"
   ]
  },
  {
   "cell_type": "code",
   "execution_count": 3,
   "id": "5d15316b-3675-4f3d-8537-841abbe8fb53",
   "metadata": {},
   "outputs": [
    {
     "data": {
      "text/plain": [
       "                Df Sum Sq Mean Sq F value Pr(>F)    \n",
       "job_hash       143   1491  10.429   126.2 <2e-16 ***\n",
       "Residuals   875952  72418   0.083                   \n",
       "---\n",
       "Signif. codes:  0 '***' 0.001 '**' 0.01 '*' 0.05 '.' 0.1 ' ' 1"
      ]
     },
     "metadata": {},
     "output_type": "display_data"
    }
   ],
   "source": [
    "model <- aov(value~job_hash, data=metrics_df)\n",
    "summary(model)"
   ]
  },
  {
   "cell_type": "markdown",
   "id": "ec94375f-c093-44e1-94ca-51af5b556c1b",
   "metadata": {},
   "source": [
    "**A one-way ANOVA showed that the mean performance differed significantly between models (F = 126.2, df = 143, 12, p < 2e-16).**"
   ]
  },
  {
   "cell_type": "code",
   "execution_count": 4,
   "id": "0476e952-af11-4fdc-9704-b5ffc4e0b929",
   "metadata": {},
   "outputs": [
    {
     "data": {
      "image/png": "[encoded data removed]",
      "text/plain": [
       "Plot with title \"95% family-wise confidence level\n",
       "\""
      ]
     },
     "metadata": {},
     "output_type": "display_data"
    }
   ],
   "source": [
    "tukey <- TukeyHSD(model, conf.level=.95, ordered=TRUE)\n",
    "plot(tukey)"
   ]
  },
  {
   "cell_type": "code",
   "execution_count": 6,
   "id": "4f6b4b31-d9c0-404d-8563-a57353e5d90c",
   "metadata": {},
   "outputs": [],
   "source": [
    "results <- as.data.frame(tukey$job_hash)\n",
    "names(results) <- c(\"diff\", \"lwr\", \"upr\", \"p_adj\")\n",
    "results <- results[order(results$diff, decreasing=TRUE), ] \n",
    "write.csv(results,\"tukey.csv\", row.names = TRUE)"
   ]
  },
  {
   "cell_type": "code",
   "execution_count": 35,
   "id": "1924fb96-1dcd-48e4-8daf-d58002a5824e",
   "metadata": {},
   "outputs": [
    {
     "data": {
      "text/html": [
       "3471"
      ],
      "text/latex": [
       "3471"
      ],
      "text/markdown": [
       "3471"
      ],
      "text/plain": [
       "[1] 3471"
      ]
     },
     "metadata": {},
     "output_type": "display_data"
    },
    {
     "data": {
      "text/html": [
       "6825"
      ],
      "text/latex": [
       "6825"
      ],
      "text/markdown": [
       "6825"
      ],
      "text/plain": [
       "[1] 6825"
      ]
     },
     "metadata": {},
     "output_type": "display_data"
    }
   ],
   "source": [
    "length( which( results$p_adj > 0.05 ) )\n",
    "length( which( results$p_adj < 0.05 ) )"
   ]
  }
 ],
 "metadata": {
  "kernelspec": {
   "display_name": "R",
   "language": "R",
   "name": "ir"
  },
  "language_info": {
   "codemirror_mode": "r",
   "file_extension": ".r",
   "mimetype": "text/x-r-source",
   "name": "R",
   "pygments_lexer": "r",
   "version": "3.6.1"
  }
 },
 "nbformat": 4,
 "nbformat_minor": 5
}
